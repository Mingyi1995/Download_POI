{
 "cells": [
  {
   "cell_type": "code",
   "execution_count": 34,
   "metadata": {},
   "outputs": [],
   "source": [
    "import json\n",
    "import requests\n",
    "import pandas as pd\n",
    "import geopandas as gpd\n",
    "from shapely.geometry import Point\n",
    "import shutil\n",
    "from api import baidu"
   ]
  },
  {
   "cell_type": "code",
   "execution_count": 35,
   "metadata": {},
   "outputs": [],
   "source": [
    "!mkdir zhangjiang_poi"
   ]
  },
  {
   "cell_type": "code",
   "execution_count": 36,
   "metadata": {},
   "outputs": [],
   "source": [
    "types = ['美术馆', '游乐园', '蛋糕甜品店', \n",
    "         '酒吧', '咖啡厅', '健身中心', \n",
    "         '图书馆', '电影院', '博物馆', \n",
    "         'KTV', '公园', \n",
    "         '中餐厅','外国餐厅','小吃快餐店',\n",
    "        '高等院校', '中学', '小学',\n",
    "        '购物中心', '美体', '体育场馆'] \n"
   ]
  },
  {
   "cell_type": "code",
   "execution_count": 39,
   "metadata": {},
   "outputs": [
    {
     "name": "stdout",
     "output_type": "stream",
     "text": [
      "1\n",
      "0\n",
      "4\n",
      "0\n",
      "10\n",
      "3\n",
      "1\n",
      "0\n",
      "0\n",
      "0\n",
      "1\n",
      "20\n",
      "20\n",
      "20\n",
      "0\n",
      "0\n",
      "0\n",
      "0\n",
      "0\n",
      "0\n",
      "0\n",
      "0\n",
      "0\n"
     ]
    }
   ],
   "source": [
    "ak = baidu\n",
    "j = 0\n",
    "# lat = []\n",
    "# lng = []\n",
    "for i in types:\n",
    "    info = pd.DataFrame()\n",
    "    lat = []\n",
    "    lng = []\n",
    "    url = 'http://api.map.baidu.com/place/v2/search?query='+i+'&page_size=20&page_num='+str(j)+'&coord_type=wgs84ll&location=31.20194,121.5875&radius=1000&output=json&ak=' + ak\n",
    "    data = requests.get(url)\n",
    "    text = json.loads(data.text)\n",
    "    print(len(text['results']))\n",
    "    for k in range(len(text['results'])):\n",
    "        lat.append(text['results'][k]['location']['lat'])\n",
    "        lng.append(text['results'][k]['location']['lng'])\n",
    "    while len(text['results']) > 19:\n",
    "        j += 1\n",
    "        url = 'http://api.map.baidu.com/place/v2/search?query='+i+'&page_size=20&page_num='+str(j)+'&location=31.212368,121.60081&radius=1000&output=json&ak='+ak\n",
    "        data = requests.get(url)\n",
    "        text = json.loads(data.text)\n",
    "        print(len(text['results']))\n",
    "        for k in range(len(text['results'])):\n",
    "            lat.append(text['results'][k]['location']['lat'])\n",
    "            lng.append(text['results'][k]['location']['lng'])\n",
    "    else:pass\n",
    "    info['lat'] = lat\n",
    "    info['lng'] = lng\n",
    "    if len(text['results']) > 0:\n",
    "        geometry = [Point(xy) for xy in zip(info.lng, info.lat)]\n",
    "        crs = {'init': 'epsg:4326'}\n",
    "        info_geo = gpd.GeoDataFrame(info, crs=crs, geometry=geometry)\n",
    "        del info_geo['lat']\n",
    "        del info_geo['lng']\n",
    "        info_geo.to_file('zhangjiang_poi/%s.shp'%(i), driver='ESRI Shapefile')\n",
    "#     info.to_csv('zhangjiang_poi/%s.csv'%i, sep=',')"
   ]
  }
 ],
 "metadata": {
  "kernelspec": {
   "display_name": "Python 3",
   "language": "python",
   "name": "python3"
  },
  "language_info": {
   "codemirror_mode": {
    "name": "ipython",
    "version": 3
   },
   "file_extension": ".py",
   "mimetype": "text/x-python",
   "name": "python",
   "nbconvert_exporter": "python",
   "pygments_lexer": "ipython3",
   "version": "3.6.4"
  }
 },
 "nbformat": 4,
 "nbformat_minor": 2
}
